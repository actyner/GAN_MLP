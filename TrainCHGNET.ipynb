{
 "cells": [
  {
   "cell_type": "code",
   "execution_count": null,
   "id": "681fe8ca-2612-445f-be16-dc290b3bf62d",
   "metadata": {},
   "outputs": [],
   "source": [
    "import numpy as np\n",
    "import re\n",
    "import os\n",
    "import numpy as np\n",
    "import json\n",
    "from pymatgen.core import Lattice, Structure, Molecule\n",
    "from pymatgen.io.cif import CifParser\n",
    "from chgnet.model import CHGNet\n",
    "from chgnet.data.dataset import StructureData, get_train_val_test_loader\n"
   ]
  },
  {
   "cell_type": "code",
   "execution_count": null,
   "id": "cfc3f38e-b075-4a24-9ae9-529c5205faaa",
   "metadata": {},
   "outputs": [],
   "source": [
    "import json \n",
    "\n",
    "#with open('CHGNet_Fine_Tune.txt', 'w') as convert_file: \n",
    "#     convert_file.write(json.dumps(data)) "
   ]
  },
  {
   "cell_type": "code",
   "execution_count": null,
   "id": "b4c9dc33-8ad2-4f6a-8ae7-59d25720bdf8",
   "metadata": {},
   "outputs": [],
   "source": [
    "dataset = StructureData(\n",
    "    structures=sf0,\n",
    "    energies=ef0,\n",
    "    forces=ff0,\n",
    "    stresses=None,  # can be None\n",
    "    magmoms=None,  # can be None\n",
    ")"
   ]
  },
  {
   "cell_type": "code",
   "execution_count": null,
   "id": "bd13eece-0d58-4df3-9712-80c3b6e65a5f",
   "metadata": {},
   "outputs": [],
   "source": [
    "train_loader, val_loader, test_loader = get_train_val_test_loader(\n",
    "    dataset, batch_size=8, train_ratio=0.9, val_ratio=0.05\n",
    ")"
   ]
  },
  {
   "cell_type": "code",
   "execution_count": null,
   "id": "712e94e6-f893-42a7-86b4-c06cac6e8290",
   "metadata": {},
   "outputs": [],
   "source": [
    "#from chgnet.model import CHGNet()\n",
    "from chgnet.trainer import Trainer\n",
    "\n",
    "# Load pretrained CHGNet\n",
    "chgnet = CHGNet.load()"
   ]
  },
  {
   "cell_type": "code",
   "execution_count": null,
   "id": "f4c595a6-1a22-450a-b575-426737ccae7d",
   "metadata": {},
   "outputs": [],
   "source": [
    "# Define Trainer\n",
    "trainer = Trainer(\n",
    "    model=chgnet,\n",
    "    targets=\"ef\",\n",
    "    optimizer=\"Adam\",\n",
    "    scheduler=\"CosLR\",\n",
    "    criterion=\"MSE\",\n",
    "    epochs=20,\n",
    "    learning_rate=1e-2,\n",
    "    use_device=\"cpu\",\n",
    "    print_freq=6,\n",
    ")"
   ]
  },
  {
   "cell_type": "code",
   "execution_count": null,
   "id": "0918a58b-ca3c-4067-bcdc-6e24168a3fc5",
   "metadata": {},
   "outputs": [],
   "source": [
    "trainer.train(train_loader, val_loader, test_loader, train_composition_model=True)\n"
   ]
  }
 ],
 "metadata": {
  "kernelspec": {
   "display_name": "Python 3 (ipykernel)",
   "language": "python",
   "name": "python3"
  },
  "language_info": {
   "codemirror_mode": {
    "name": "ipython",
    "version": 3
   },
   "file_extension": ".py",
   "mimetype": "text/x-python",
   "name": "python",
   "nbconvert_exporter": "python",
   "pygments_lexer": "ipython3",
   "version": "3.10.13"
  }
 },
 "nbformat": 4,
 "nbformat_minor": 5
}
