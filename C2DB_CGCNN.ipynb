{
 "cells": [
  {
   "cell_type": "code",
   "execution_count": 1,
   "id": "d1067ef2",
   "metadata": {},
   "outputs": [],
   "source": [
    "# creates: band-alignment.png\n",
    "from math import floor\n",
    "import numpy as np\n",
    "import matplotlib.pyplot as plt\n",
    "from ase.db import connect\n",
    "import ase"
   ]
  },
  {
   "cell_type": "code",
   "execution_count": null,
   "id": "0946c963",
   "metadata": {},
   "outputs": [],
   "source": [
    "#Process data from C2DB for training CGCNN"
   ]
  },
  {
   "cell_type": "code",
   "execution_count": 19,
   "id": "042cc253",
   "metadata": {},
   "outputs": [],
   "source": [
    "#Change to give atomic positions directly\n",
    "db_dir='c2db.db'\n",
    "db = ase.db.connect(db_dir)\n",
    "counter=0\n",
    "# Select elements according to the select variable\n",
    "rows = db.select('gap>=0')\n",
    "import matplotlib.pyplot as plt\n",
    "from pymatgen.core import Lattice, Structure, Molecule\n",
    "gaps = []  \n",
    "# get the data from C2DB database\n",
    "for row in rows:\n",
    "    if counter <200000:\n",
    "        # Get the class for selection\n",
    "        try:\n",
    "            m_class = row.get(\"class\")\n",
    "        except:\n",
    "            m_class = \"\"\n",
    "        # Get the stability for selection\n",
    "        try:\n",
    "            ds_level = row.dynamic_stability_level\n",
    "        except:\n",
    "            ds_level = 0\n",
    "\n",
    "        # Filter materials going to be used for training       \n",
    "        if row.natoms <= 10 and ds_level != 0:\n",
    "            if counter<200000:\n",
    "                struct = Structure(row.cell, row.symbols, row.positions,coords_are_cartesian=True)\n",
    "                struct.to(filename=\"./C2DB_CIFS/\"+str(counter)+\".cif\")\n",
    "                gaps.append(row.gap)\n",
    "            counter=counter+1\n",
    "\n",
    "\n"
   ]
  },
  {
   "cell_type": "code",
   "execution_count": 29,
   "id": "c1ce0558",
   "metadata": {},
   "outputs": [],
   "source": [
    "gapf=[]\n",
    "for j in range(3076):\n",
    "    gapf.append([(int(j)),gaps[j]])"
   ]
  },
  {
   "cell_type": "code",
   "execution_count": null,
   "id": "b51d2587",
   "metadata": {},
   "outputs": [],
   "source": [
    "np.savetxt('data.csv', np.array(gapf), delimiter=',')"
   ]
  },
  {
   "cell_type": "code",
   "execution_count": null,
   "id": "f087be74",
   "metadata": {},
   "outputs": [],
   "source": []
  },
  {
   "cell_type": "code",
   "execution_count": null,
   "id": "f43c45ac",
   "metadata": {},
   "outputs": [],
   "source": []
  },
  {
   "cell_type": "code",
   "execution_count": null,
   "id": "88647793",
   "metadata": {},
   "outputs": [],
   "source": []
  },
  {
   "cell_type": "code",
   "execution_count": null,
   "id": "d42a1325",
   "metadata": {},
   "outputs": [],
   "source": []
  },
  {
   "cell_type": "code",
   "execution_count": null,
   "id": "1d2cc360",
   "metadata": {},
   "outputs": [],
   "source": []
  },
  {
   "cell_type": "code",
   "execution_count": null,
   "id": "f642492b-7a75-4fe5-a9ac-d679feee8aef",
   "metadata": {},
   "outputs": [],
   "source": []
  },
  {
   "cell_type": "code",
   "execution_count": null,
   "id": "d15e7695-8959-4b81-ab7f-fe4ba5b5ae89",
   "metadata": {},
   "outputs": [],
   "source": []
  }
 ],
 "metadata": {
  "kernelspec": {
   "display_name": "Python 3 (ipykernel)",
   "language": "python",
   "name": "python3"
  },
  "language_info": {
   "codemirror_mode": {
    "name": "ipython",
    "version": 3
   },
   "file_extension": ".py",
   "mimetype": "text/x-python",
   "name": "python",
   "nbconvert_exporter": "python",
   "pygments_lexer": "ipython3",
   "version": "3.10.13"
  }
 },
 "nbformat": 4,
 "nbformat_minor": 5
}
